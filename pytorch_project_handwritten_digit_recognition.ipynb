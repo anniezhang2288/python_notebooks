{
  "nbformat": 4,
  "nbformat_minor": 0,
  "metadata": {
    "colab": {
      "provenance": [],
      "authorship_tag": "ABX9TyOjNcclRwgjWpUQ4umupdAv",
      "include_colab_link": true
    },
    "kernelspec": {
      "name": "python3",
      "display_name": "Python 3"
    },
    "language_info": {
      "name": "python"
    }
  },
  "cells": [
    {
      "cell_type": "markdown",
      "metadata": {
        "id": "view-in-github",
        "colab_type": "text"
      },
      "source": [
        "<a href=\"https://colab.research.google.com/github/anniezhang2288/python_notebooks/blob/main/pytorch_project_handwritten_digit_recognition.ipynb\" target=\"_parent\"><img src=\"https://colab.research.google.com/assets/colab-badge.svg\" alt=\"Open In Colab\"/></a>"
      ]
    },
    {
      "cell_type": "code",
      "execution_count": null,
      "metadata": {
        "colab": {
          "base_uri": "https://localhost:8080/"
        },
        "id": "Z6Fzpm4wbl40",
        "outputId": "894f3620-12ea-46bf-998c-de5305cafbcf"
      },
      "outputs": [
        {
          "output_type": "stream",
          "name": "stdout",
          "text": [
            "Requirement already satisfied: torch in /usr/local/lib/python3.10/dist-packages (2.1.0+cu121)\n",
            "Requirement already satisfied: torchvision in /usr/local/lib/python3.10/dist-packages (0.16.0+cu121)\n",
            "Requirement already satisfied: matplotlib in /usr/local/lib/python3.10/dist-packages (3.7.1)\n",
            "Requirement already satisfied: filelock in /usr/local/lib/python3.10/dist-packages (from torch) (3.13.1)\n",
            "Requirement already satisfied: typing-extensions in /usr/local/lib/python3.10/dist-packages (from torch) (4.5.0)\n",
            "Requirement already satisfied: sympy in /usr/local/lib/python3.10/dist-packages (from torch) (1.12)\n",
            "Requirement already satisfied: networkx in /usr/local/lib/python3.10/dist-packages (from torch) (3.2.1)\n",
            "Requirement already satisfied: jinja2 in /usr/local/lib/python3.10/dist-packages (from torch) (3.1.2)\n",
            "Requirement already satisfied: fsspec in /usr/local/lib/python3.10/dist-packages (from torch) (2023.6.0)\n",
            "Requirement already satisfied: triton==2.1.0 in /usr/local/lib/python3.10/dist-packages (from torch) (2.1.0)\n",
            "Requirement already satisfied: numpy in /usr/local/lib/python3.10/dist-packages (from torchvision) (1.23.5)\n",
            "Requirement already satisfied: requests in /usr/local/lib/python3.10/dist-packages (from torchvision) (2.31.0)\n",
            "Requirement already satisfied: pillow!=8.3.*,>=5.3.0 in /usr/local/lib/python3.10/dist-packages (from torchvision) (9.4.0)\n",
            "Requirement already satisfied: contourpy>=1.0.1 in /usr/local/lib/python3.10/dist-packages (from matplotlib) (1.2.0)\n",
            "Requirement already satisfied: cycler>=0.10 in /usr/local/lib/python3.10/dist-packages (from matplotlib) (0.12.1)\n",
            "Requirement already satisfied: fonttools>=4.22.0 in /usr/local/lib/python3.10/dist-packages (from matplotlib) (4.47.0)\n",
            "Requirement already satisfied: kiwisolver>=1.0.1 in /usr/local/lib/python3.10/dist-packages (from matplotlib) (1.4.5)\n",
            "Requirement already satisfied: packaging>=20.0 in /usr/local/lib/python3.10/dist-packages (from matplotlib) (23.2)\n",
            "Requirement already satisfied: pyparsing>=2.3.1 in /usr/local/lib/python3.10/dist-packages (from matplotlib) (3.1.1)\n",
            "Requirement already satisfied: python-dateutil>=2.7 in /usr/local/lib/python3.10/dist-packages (from matplotlib) (2.8.2)\n",
            "Requirement already satisfied: six>=1.5 in /usr/local/lib/python3.10/dist-packages (from python-dateutil>=2.7->matplotlib) (1.16.0)\n",
            "Requirement already satisfied: MarkupSafe>=2.0 in /usr/local/lib/python3.10/dist-packages (from jinja2->torch) (2.1.3)\n",
            "Requirement already satisfied: charset-normalizer<4,>=2 in /usr/local/lib/python3.10/dist-packages (from requests->torchvision) (3.3.2)\n",
            "Requirement already satisfied: idna<4,>=2.5 in /usr/local/lib/python3.10/dist-packages (from requests->torchvision) (3.6)\n",
            "Requirement already satisfied: urllib3<3,>=1.21.1 in /usr/local/lib/python3.10/dist-packages (from requests->torchvision) (2.0.7)\n",
            "Requirement already satisfied: certifi>=2017.4.17 in /usr/local/lib/python3.10/dist-packages (from requests->torchvision) (2023.11.17)\n",
            "Requirement already satisfied: mpmath>=0.19 in /usr/local/lib/python3.10/dist-packages (from sympy->torch) (1.3.0)\n"
          ]
        }
      ],
      "source": [
        "pip install torch torchvision matplotlib\n"
      ]
    },
    {
      "cell_type": "code",
      "source": [
        "from torchvision import datasets\n",
        "from torchvision import transforms\n",
        "from torchvision.transforms import ToTensor"
      ],
      "metadata": {
        "id": "PAd4PkILbvvT"
      },
      "execution_count": null,
      "outputs": []
    },
    {
      "cell_type": "code",
      "source": [
        "train_data = datasets.MNIST(\n",
        "    root = 'data',\n",
        "    train = True,\n",
        "    transform = ToTensor(),\n",
        "    download = True\n",
        ")\n",
        "\n",
        "test_data = datasets.MNIST(\n",
        "    root = 'data',\n",
        "    train = False,\n",
        "    transform = ToTensor(),\n",
        "    download = True\n",
        ")"
      ],
      "metadata": {
        "colab": {
          "base_uri": "https://localhost:8080/"
        },
        "id": "om-Npo0KcLIL",
        "outputId": "34ba9f1d-d6f0-48f5-8f30-7511b2a4f05f"
      },
      "execution_count": null,
      "outputs": [
        {
          "output_type": "stream",
          "name": "stdout",
          "text": [
            "Downloading http://yann.lecun.com/exdb/mnist/train-images-idx3-ubyte.gz\n",
            "Downloading http://yann.lecun.com/exdb/mnist/train-images-idx3-ubyte.gz to data/MNIST/raw/train-images-idx3-ubyte.gz\n"
          ]
        },
        {
          "output_type": "stream",
          "name": "stderr",
          "text": [
            "100%|██████████| 9912422/9912422 [00:00<00:00, 111676805.59it/s]\n"
          ]
        },
        {
          "output_type": "stream",
          "name": "stdout",
          "text": [
            "Extracting data/MNIST/raw/train-images-idx3-ubyte.gz to data/MNIST/raw\n",
            "\n",
            "Downloading http://yann.lecun.com/exdb/mnist/train-labels-idx1-ubyte.gz\n",
            "Downloading http://yann.lecun.com/exdb/mnist/train-labels-idx1-ubyte.gz to data/MNIST/raw/train-labels-idx1-ubyte.gz\n"
          ]
        },
        {
          "output_type": "stream",
          "name": "stderr",
          "text": [
            "100%|██████████| 28881/28881 [00:00<00:00, 19106576.31it/s]"
          ]
        },
        {
          "output_type": "stream",
          "name": "stdout",
          "text": [
            "Extracting data/MNIST/raw/train-labels-idx1-ubyte.gz to data/MNIST/raw\n",
            "\n",
            "Downloading http://yann.lecun.com/exdb/mnist/t10k-images-idx3-ubyte.gz\n",
            "Downloading http://yann.lecun.com/exdb/mnist/t10k-images-idx3-ubyte.gz to data/MNIST/raw/t10k-images-idx3-ubyte.gz\n"
          ]
        },
        {
          "output_type": "stream",
          "name": "stderr",
          "text": [
            "\n",
            "100%|██████████| 1648877/1648877 [00:00<00:00, 30375355.86it/s]\n"
          ]
        },
        {
          "output_type": "stream",
          "name": "stdout",
          "text": [
            "Extracting data/MNIST/raw/t10k-images-idx3-ubyte.gz to data/MNIST/raw\n",
            "\n",
            "Downloading http://yann.lecun.com/exdb/mnist/t10k-labels-idx1-ubyte.gz\n",
            "Downloading http://yann.lecun.com/exdb/mnist/t10k-labels-idx1-ubyte.gz to data/MNIST/raw/t10k-labels-idx1-ubyte.gz\n"
          ]
        },
        {
          "output_type": "stream",
          "name": "stderr",
          "text": [
            "100%|██████████| 4542/4542 [00:00<00:00, 4765014.70it/s]\n"
          ]
        },
        {
          "output_type": "stream",
          "name": "stdout",
          "text": [
            "Extracting data/MNIST/raw/t10k-labels-idx1-ubyte.gz to data/MNIST/raw\n",
            "\n"
          ]
        }
      ]
    },
    {
      "cell_type": "code",
      "source": [
        "train_data"
      ],
      "metadata": {
        "colab": {
          "base_uri": "https://localhost:8080/"
        },
        "id": "WFBe1J17cmZ7",
        "outputId": "8f138694-a193-4cb9-fc22-9a32d27fddee"
      },
      "execution_count": null,
      "outputs": [
        {
          "output_type": "execute_result",
          "data": {
            "text/plain": [
              "Dataset MNIST\n",
              "    Number of datapoints: 60000\n",
              "    Root location: data\n",
              "    Split: Train\n",
              "    StandardTransform\n",
              "Transform: ToTensor()"
            ]
          },
          "metadata": {},
          "execution_count": 7
        }
      ]
    },
    {
      "cell_type": "code",
      "source": [
        "test_data"
      ],
      "metadata": {
        "colab": {
          "base_uri": "https://localhost:8080/"
        },
        "id": "H07e7SOacpTj",
        "outputId": "fa216186-8745-4b4a-ca7a-ab35295b3954"
      },
      "execution_count": null,
      "outputs": [
        {
          "output_type": "execute_result",
          "data": {
            "text/plain": [
              "Dataset MNIST\n",
              "    Number of datapoints: 10000\n",
              "    Root location: data\n",
              "    Split: Test\n",
              "    StandardTransform\n",
              "Transform: ToTensor()"
            ]
          },
          "metadata": {},
          "execution_count": 8
        }
      ]
    },
    {
      "cell_type": "code",
      "source": [
        "train_data.data.shape"
      ],
      "metadata": {
        "colab": {
          "base_uri": "https://localhost:8080/"
        },
        "id": "MYkyICrBcslt",
        "outputId": "98dd52dc-7dfc-40b6-bc60-292cbcaead46"
      },
      "execution_count": null,
      "outputs": [
        {
          "output_type": "execute_result",
          "data": {
            "text/plain": [
              "torch.Size([60000, 28, 28])"
            ]
          },
          "metadata": {},
          "execution_count": 9
        }
      ]
    },
    {
      "cell_type": "code",
      "source": [
        "train_data.data.size()"
      ],
      "metadata": {
        "colab": {
          "base_uri": "https://localhost:8080/"
        },
        "id": "k5B73E2Ict6Y",
        "outputId": "ad5aedcd-ff2f-414a-e489-efeef373b0b6"
      },
      "execution_count": null,
      "outputs": [
        {
          "output_type": "execute_result",
          "data": {
            "text/plain": [
              "torch.Size([60000, 28, 28])"
            ]
          },
          "metadata": {},
          "execution_count": 10
        }
      ]
    },
    {
      "cell_type": "code",
      "source": [
        "train_data.targets.size()"
      ],
      "metadata": {
        "colab": {
          "base_uri": "https://localhost:8080/"
        },
        "id": "3axaRY73c0Am",
        "outputId": "86533eab-8da6-4e14-d875-42072ee46ef3"
      },
      "execution_count": null,
      "outputs": [
        {
          "output_type": "execute_result",
          "data": {
            "text/plain": [
              "torch.Size([60000])"
            ]
          },
          "metadata": {},
          "execution_count": 11
        }
      ]
    },
    {
      "cell_type": "code",
      "source": [
        "train_data.targets\n"
      ],
      "metadata": {
        "colab": {
          "base_uri": "https://localhost:8080/"
        },
        "id": "XCwg8RlCdCPm",
        "outputId": "40354693-79ae-4df6-dd9c-864687659292"
      },
      "execution_count": null,
      "outputs": [
        {
          "output_type": "execute_result",
          "data": {
            "text/plain": [
              "tensor([5, 0, 4,  ..., 5, 6, 8])"
            ]
          },
          "metadata": {},
          "execution_count": 12
        }
      ]
    },
    {
      "cell_type": "code",
      "source": [
        "from torch.utils.data import DataLoader\n",
        "\n",
        "loaders = {\n",
        "    'train': DataLoader(train_data,\n",
        "                        batch_size = 100,\n",
        "                        shuffle = True,\n",
        "                        num_workers = 1),\n",
        "    'test': DataLoader(test_data,\n",
        "                        batch_size = 100,\n",
        "                        shuffle = True,\n",
        "                        num_workers = 1),\n",
        "}"
      ],
      "metadata": {
        "id": "SLlcOBrOdDbi"
      },
      "execution_count": null,
      "outputs": []
    },
    {
      "cell_type": "code",
      "source": [
        "loaders"
      ],
      "metadata": {
        "colab": {
          "base_uri": "https://localhost:8080/"
        },
        "id": "3OH7ZJrweA5r",
        "outputId": "d3d5672c-8959-4496-a896-cbba70d9b53e"
      },
      "execution_count": null,
      "outputs": [
        {
          "output_type": "execute_result",
          "data": {
            "text/plain": [
              "{'train': <torch.utils.data.dataloader.DataLoader at 0x7e896fd61c60>,\n",
              " 'test': <torch.utils.data.dataloader.DataLoader at 0x7e896fd61000>}"
            ]
          },
          "metadata": {},
          "execution_count": 14
        }
      ]
    },
    {
      "cell_type": "code",
      "source": [
        "import torch.nn as nn\n",
        "import torch.nn.functional as F\n",
        "import torch.optim as optim\n",
        "\n",
        "class CNN(nn.Module):\n",
        "  def __init__(self):\n",
        "    super(CNN, self).__init__()\n",
        "\n",
        "    self.conv1 = nn.Conv2d(1, 10, kernel_size = 5)\n",
        "    self.conv2 = nn.Conv2d(10, 20, kernel_size = 5)\n",
        "    self.conv2_drop = nn.Dropout2d()\n",
        "    self.fc1 = nn.Linear(320, 50)\n",
        "    self.fc2 = nn.Linear(50, 10)\n",
        "\n",
        "  def forward(self, x):\n",
        "    x = F.relu(F.max_pool2d(self.conv1(x),2))\n",
        "    x = F.relu(F.max_pool2d(self.conv2_drop(self.conv2(x)),2))\n",
        "    # flatten data for linear layer, call view func\n",
        "    x = x.view(-1, 320)\n",
        "    x = F.relu(self.fc1(x))\n",
        "    x = F.dropout(x, training = self.training)\n",
        "    x = self.fc2(x)\n",
        "\n",
        "    return F.softmax(x)\n"
      ],
      "metadata": {
        "id": "z6AWwyWCeCRU"
      },
      "execution_count": null,
      "outputs": []
    },
    {
      "cell_type": "code",
      "source": [
        "import torch\n",
        "\n",
        "device = torch.device('cuda' if torch.cuda.is_available() else 'cpu')\n",
        "model = CNN().to(device)\n",
        "optimizer = optim.Adam(model.parameters(), lr = 0.001)\n",
        "loss_fn = nn.CrossEntropyLoss()\n",
        "\n",
        "def train(epoch):\n",
        "  model.train()\n",
        "  for batch_idx, (data, target) in enumerate(loaders['train']):\n",
        "    data, target = data.to(device), target.to(device)\n",
        "    optimizer.zero_grad()\n",
        "    output = model(data)\n",
        "    loss = loss_fn(output, target)\n",
        "    loss.backward()\n",
        "    optimizer.step()\n",
        "    if batch_idx % 20 == 0:\n",
        "      print(f\"Train Epoch: {epoch} [{batch_idx * len(data)}/{len(loaders['train'].dataset)} ({100. * batch_idx / len(loaders['train']):.0f}%)]\\tLoss: {loss.item():.6f}\")\n",
        "def test():\n",
        "  model.eval()\n",
        "\n",
        "  test_loss = 0\n",
        "  correct = 0\n",
        "\n",
        "  with torch.no_grad():\n",
        "    for data, target in loaders['test']:\n",
        "      data, target = data.to(device), target.to(device)\n",
        "      output = model(data)\n",
        "      test_loss += loss_fn(output, target).item()\n",
        "      pred = output.argmax(dim = 1, keepdim = True)\n",
        "      correct += pred.eq(target.view_as(pred)).sum().item()\n",
        "  test_loss /= len(loaders['test'].dataset)\n",
        "  print(f'\\nTest set: Average loss: {test_loss:.4f}, Accuracy {correct}/{len(loaders[\"test\"].dataset)} ({100. * correct / len(loaders[\"test\"].dataset):.0f}%)\\n')\n"
      ],
      "metadata": {
        "id": "-EHxjpO_eIpE"
      },
      "execution_count": null,
      "outputs": []
    },
    {
      "cell_type": "code",
      "source": [
        "for epoch in range(1, 11):\n",
        "  train(epoch)\n",
        "  test()"
      ],
      "metadata": {
        "colab": {
          "base_uri": "https://localhost:8080/"
        },
        "id": "ECq1AGyP1qYz",
        "outputId": "9ce023ae-1468-41b1-9220-527bed0cde46"
      },
      "execution_count": null,
      "outputs": [
        {
          "output_type": "stream",
          "name": "stderr",
          "text": [
            "<ipython-input-23-0cafbe83f7d9>:24: UserWarning: Implicit dimension choice for softmax has been deprecated. Change the call to include dim=X as an argument.\n",
            "  return F.softmax(x)\n"
          ]
        },
        {
          "output_type": "stream",
          "name": "stdout",
          "text": [
            "Train Epoch: 1 [0/60000 (0%)]\tLoss: 1.532718\n",
            "Train Epoch: 1 [2000/60000 (3%)]\tLoss: 1.499717\n",
            "Train Epoch: 1 [4000/60000 (7%)]\tLoss: 1.549541\n",
            "Train Epoch: 1 [6000/60000 (10%)]\tLoss: 1.547395\n",
            "Train Epoch: 1 [8000/60000 (13%)]\tLoss: 1.575632\n",
            "Train Epoch: 1 [10000/60000 (17%)]\tLoss: 1.505653\n",
            "Train Epoch: 1 [12000/60000 (20%)]\tLoss: 1.511065\n",
            "Train Epoch: 1 [14000/60000 (23%)]\tLoss: 1.536109\n",
            "Train Epoch: 1 [16000/60000 (27%)]\tLoss: 1.548409\n",
            "Train Epoch: 1 [18000/60000 (30%)]\tLoss: 1.501562\n",
            "Train Epoch: 1 [20000/60000 (33%)]\tLoss: 1.516411\n",
            "Train Epoch: 1 [22000/60000 (37%)]\tLoss: 1.543587\n",
            "Train Epoch: 1 [24000/60000 (40%)]\tLoss: 1.529054\n",
            "Train Epoch: 1 [26000/60000 (43%)]\tLoss: 1.530240\n",
            "Train Epoch: 1 [28000/60000 (47%)]\tLoss: 1.498640\n",
            "Train Epoch: 1 [30000/60000 (50%)]\tLoss: 1.518761\n",
            "Train Epoch: 1 [32000/60000 (53%)]\tLoss: 1.532030\n",
            "Train Epoch: 1 [34000/60000 (57%)]\tLoss: 1.496496\n",
            "Train Epoch: 1 [36000/60000 (60%)]\tLoss: 1.514126\n",
            "Train Epoch: 1 [38000/60000 (63%)]\tLoss: 1.542703\n",
            "Train Epoch: 1 [40000/60000 (67%)]\tLoss: 1.512919\n",
            "Train Epoch: 1 [42000/60000 (70%)]\tLoss: 1.536777\n",
            "Train Epoch: 1 [44000/60000 (73%)]\tLoss: 1.491954\n",
            "Train Epoch: 1 [46000/60000 (77%)]\tLoss: 1.517429\n",
            "Train Epoch: 1 [48000/60000 (80%)]\tLoss: 1.496439\n",
            "Train Epoch: 1 [50000/60000 (83%)]\tLoss: 1.513394\n",
            "Train Epoch: 1 [52000/60000 (87%)]\tLoss: 1.529934\n",
            "Train Epoch: 1 [54000/60000 (90%)]\tLoss: 1.494563\n",
            "Train Epoch: 1 [56000/60000 (93%)]\tLoss: 1.471069\n",
            "Train Epoch: 1 [58000/60000 (97%)]\tLoss: 1.535187\n",
            "\n",
            "Test set: Average loss: 0.0148, Accuracy 9770/10000 (98%)\n",
            "\n",
            "Train Epoch: 2 [0/60000 (0%)]\tLoss: 1.525096\n",
            "Train Epoch: 2 [2000/60000 (3%)]\tLoss: 1.499310\n",
            "Train Epoch: 2 [4000/60000 (7%)]\tLoss: 1.502633\n",
            "Train Epoch: 2 [6000/60000 (10%)]\tLoss: 1.514923\n",
            "Train Epoch: 2 [8000/60000 (13%)]\tLoss: 1.496102\n",
            "Train Epoch: 2 [10000/60000 (17%)]\tLoss: 1.510848\n",
            "Train Epoch: 2 [12000/60000 (20%)]\tLoss: 1.510566\n",
            "Train Epoch: 2 [14000/60000 (23%)]\tLoss: 1.503317\n",
            "Train Epoch: 2 [16000/60000 (27%)]\tLoss: 1.509665\n",
            "Train Epoch: 2 [18000/60000 (30%)]\tLoss: 1.505621\n",
            "Train Epoch: 2 [20000/60000 (33%)]\tLoss: 1.546779\n",
            "Train Epoch: 2 [22000/60000 (37%)]\tLoss: 1.503717\n",
            "Train Epoch: 2 [24000/60000 (40%)]\tLoss: 1.508757\n",
            "Train Epoch: 2 [26000/60000 (43%)]\tLoss: 1.519828\n",
            "Train Epoch: 2 [28000/60000 (47%)]\tLoss: 1.553408\n",
            "Train Epoch: 2 [30000/60000 (50%)]\tLoss: 1.518876\n",
            "Train Epoch: 2 [32000/60000 (53%)]\tLoss: 1.518796\n",
            "Train Epoch: 2 [34000/60000 (57%)]\tLoss: 1.516856\n",
            "Train Epoch: 2 [36000/60000 (60%)]\tLoss: 1.528568\n",
            "Train Epoch: 2 [38000/60000 (63%)]\tLoss: 1.484743\n",
            "Train Epoch: 2 [40000/60000 (67%)]\tLoss: 1.533449\n",
            "Train Epoch: 2 [42000/60000 (70%)]\tLoss: 1.532090\n",
            "Train Epoch: 2 [44000/60000 (73%)]\tLoss: 1.516496\n",
            "Train Epoch: 2 [46000/60000 (77%)]\tLoss: 1.489606\n",
            "Train Epoch: 2 [48000/60000 (80%)]\tLoss: 1.496985\n",
            "Train Epoch: 2 [50000/60000 (83%)]\tLoss: 1.489624\n",
            "Train Epoch: 2 [52000/60000 (87%)]\tLoss: 1.507332\n",
            "Train Epoch: 2 [54000/60000 (90%)]\tLoss: 1.509437\n",
            "Train Epoch: 2 [56000/60000 (93%)]\tLoss: 1.543388\n",
            "Train Epoch: 2 [58000/60000 (97%)]\tLoss: 1.515506\n",
            "\n",
            "Test set: Average loss: 0.0148, Accuracy 9786/10000 (98%)\n",
            "\n",
            "Train Epoch: 3 [0/60000 (0%)]\tLoss: 1.511679\n",
            "Train Epoch: 3 [2000/60000 (3%)]\tLoss: 1.505773\n",
            "Train Epoch: 3 [4000/60000 (7%)]\tLoss: 1.497378\n",
            "Train Epoch: 3 [6000/60000 (10%)]\tLoss: 1.491838\n",
            "Train Epoch: 3 [8000/60000 (13%)]\tLoss: 1.494701\n",
            "Train Epoch: 3 [10000/60000 (17%)]\tLoss: 1.491240\n",
            "Train Epoch: 3 [12000/60000 (20%)]\tLoss: 1.504000\n",
            "Train Epoch: 3 [14000/60000 (23%)]\tLoss: 1.533582\n",
            "Train Epoch: 3 [16000/60000 (27%)]\tLoss: 1.529544\n",
            "Train Epoch: 3 [18000/60000 (30%)]\tLoss: 1.553859\n",
            "Train Epoch: 3 [20000/60000 (33%)]\tLoss: 1.481496\n",
            "Train Epoch: 3 [22000/60000 (37%)]\tLoss: 1.480401\n",
            "Train Epoch: 3 [24000/60000 (40%)]\tLoss: 1.519949\n",
            "Train Epoch: 3 [26000/60000 (43%)]\tLoss: 1.507233\n",
            "Train Epoch: 3 [28000/60000 (47%)]\tLoss: 1.526233\n",
            "Train Epoch: 3 [30000/60000 (50%)]\tLoss: 1.512423\n",
            "Train Epoch: 3 [32000/60000 (53%)]\tLoss: 1.527733\n",
            "Train Epoch: 3 [34000/60000 (57%)]\tLoss: 1.526167\n",
            "Train Epoch: 3 [36000/60000 (60%)]\tLoss: 1.525092\n",
            "Train Epoch: 3 [38000/60000 (63%)]\tLoss: 1.538217\n",
            "Train Epoch: 3 [40000/60000 (67%)]\tLoss: 1.535113\n",
            "Train Epoch: 3 [42000/60000 (70%)]\tLoss: 1.510781\n",
            "Train Epoch: 3 [44000/60000 (73%)]\tLoss: 1.529164\n",
            "Train Epoch: 3 [46000/60000 (77%)]\tLoss: 1.517778\n",
            "Train Epoch: 3 [48000/60000 (80%)]\tLoss: 1.507728\n",
            "Train Epoch: 3 [50000/60000 (83%)]\tLoss: 1.528554\n",
            "Train Epoch: 3 [52000/60000 (87%)]\tLoss: 1.509800\n",
            "Train Epoch: 3 [54000/60000 (90%)]\tLoss: 1.488720\n",
            "Train Epoch: 3 [56000/60000 (93%)]\tLoss: 1.514532\n",
            "Train Epoch: 3 [58000/60000 (97%)]\tLoss: 1.513361\n",
            "\n",
            "Test set: Average loss: 0.0148, Accuracy 9792/10000 (98%)\n",
            "\n",
            "Train Epoch: 4 [0/60000 (0%)]\tLoss: 1.494179\n",
            "Train Epoch: 4 [2000/60000 (3%)]\tLoss: 1.542629\n",
            "Train Epoch: 4 [4000/60000 (7%)]\tLoss: 1.500504\n",
            "Train Epoch: 4 [6000/60000 (10%)]\tLoss: 1.483587\n",
            "Train Epoch: 4 [8000/60000 (13%)]\tLoss: 1.518443\n",
            "Train Epoch: 4 [10000/60000 (17%)]\tLoss: 1.486672\n",
            "Train Epoch: 4 [12000/60000 (20%)]\tLoss: 1.497694\n",
            "Train Epoch: 4 [14000/60000 (23%)]\tLoss: 1.524610\n",
            "Train Epoch: 4 [16000/60000 (27%)]\tLoss: 1.531683\n",
            "Train Epoch: 4 [18000/60000 (30%)]\tLoss: 1.537340\n",
            "Train Epoch: 4 [20000/60000 (33%)]\tLoss: 1.525239\n",
            "Train Epoch: 4 [22000/60000 (37%)]\tLoss: 1.501652\n",
            "Train Epoch: 4 [24000/60000 (40%)]\tLoss: 1.518071\n",
            "Train Epoch: 4 [26000/60000 (43%)]\tLoss: 1.467957\n",
            "Train Epoch: 4 [28000/60000 (47%)]\tLoss: 1.527589\n",
            "Train Epoch: 4 [30000/60000 (50%)]\tLoss: 1.500444\n",
            "Train Epoch: 4 [32000/60000 (53%)]\tLoss: 1.516626\n",
            "Train Epoch: 4 [34000/60000 (57%)]\tLoss: 1.526951\n",
            "Train Epoch: 4 [36000/60000 (60%)]\tLoss: 1.563927\n",
            "Train Epoch: 4 [38000/60000 (63%)]\tLoss: 1.516913\n",
            "Train Epoch: 4 [40000/60000 (67%)]\tLoss: 1.542235\n",
            "Train Epoch: 4 [42000/60000 (70%)]\tLoss: 1.501160\n",
            "Train Epoch: 4 [44000/60000 (73%)]\tLoss: 1.522080\n",
            "Train Epoch: 4 [46000/60000 (77%)]\tLoss: 1.503777\n",
            "Train Epoch: 4 [48000/60000 (80%)]\tLoss: 1.519356\n",
            "Train Epoch: 4 [50000/60000 (83%)]\tLoss: 1.506591\n",
            "Train Epoch: 4 [52000/60000 (87%)]\tLoss: 1.517879\n",
            "Train Epoch: 4 [54000/60000 (90%)]\tLoss: 1.500093\n",
            "Train Epoch: 4 [56000/60000 (93%)]\tLoss: 1.521988\n",
            "Train Epoch: 4 [58000/60000 (97%)]\tLoss: 1.518645\n",
            "\n",
            "Test set: Average loss: 0.0148, Accuracy 9779/10000 (98%)\n",
            "\n",
            "Train Epoch: 5 [0/60000 (0%)]\tLoss: 1.523573\n",
            "Train Epoch: 5 [2000/60000 (3%)]\tLoss: 1.537374\n",
            "Train Epoch: 5 [4000/60000 (7%)]\tLoss: 1.518394\n",
            "Train Epoch: 5 [6000/60000 (10%)]\tLoss: 1.522362\n",
            "Train Epoch: 5 [8000/60000 (13%)]\tLoss: 1.508675\n",
            "Train Epoch: 5 [10000/60000 (17%)]\tLoss: 1.492896\n",
            "Train Epoch: 5 [12000/60000 (20%)]\tLoss: 1.525487\n",
            "Train Epoch: 5 [14000/60000 (23%)]\tLoss: 1.518219\n",
            "Train Epoch: 5 [16000/60000 (27%)]\tLoss: 1.501658\n",
            "Train Epoch: 5 [18000/60000 (30%)]\tLoss: 1.543447\n",
            "Train Epoch: 5 [20000/60000 (33%)]\tLoss: 1.509600\n",
            "Train Epoch: 5 [22000/60000 (37%)]\tLoss: 1.508939\n",
            "Train Epoch: 5 [24000/60000 (40%)]\tLoss: 1.548741\n",
            "Train Epoch: 5 [26000/60000 (43%)]\tLoss: 1.506281\n",
            "Train Epoch: 5 [28000/60000 (47%)]\tLoss: 1.504797\n",
            "Train Epoch: 5 [30000/60000 (50%)]\tLoss: 1.498443\n",
            "Train Epoch: 5 [32000/60000 (53%)]\tLoss: 1.532063\n",
            "Train Epoch: 5 [34000/60000 (57%)]\tLoss: 1.550576\n",
            "Train Epoch: 5 [36000/60000 (60%)]\tLoss: 1.471889\n",
            "Train Epoch: 5 [38000/60000 (63%)]\tLoss: 1.486803\n",
            "Train Epoch: 5 [40000/60000 (67%)]\tLoss: 1.495321\n",
            "Train Epoch: 5 [42000/60000 (70%)]\tLoss: 1.478283\n",
            "Train Epoch: 5 [44000/60000 (73%)]\tLoss: 1.493093\n",
            "Train Epoch: 5 [46000/60000 (77%)]\tLoss: 1.536670\n",
            "Train Epoch: 5 [48000/60000 (80%)]\tLoss: 1.515807\n",
            "Train Epoch: 5 [50000/60000 (83%)]\tLoss: 1.526133\n",
            "Train Epoch: 5 [52000/60000 (87%)]\tLoss: 1.530987\n",
            "Train Epoch: 5 [54000/60000 (90%)]\tLoss: 1.534656\n",
            "Train Epoch: 5 [56000/60000 (93%)]\tLoss: 1.520944\n",
            "Train Epoch: 5 [58000/60000 (97%)]\tLoss: 1.503727\n",
            "\n",
            "Test set: Average loss: 0.0148, Accuracy 9792/10000 (98%)\n",
            "\n",
            "Train Epoch: 6 [0/60000 (0%)]\tLoss: 1.501673\n",
            "Train Epoch: 6 [2000/60000 (3%)]\tLoss: 1.486818\n",
            "Train Epoch: 6 [4000/60000 (7%)]\tLoss: 1.515700\n",
            "Train Epoch: 6 [6000/60000 (10%)]\tLoss: 1.515689\n",
            "Train Epoch: 6 [8000/60000 (13%)]\tLoss: 1.498973\n",
            "Train Epoch: 6 [10000/60000 (17%)]\tLoss: 1.547134\n",
            "Train Epoch: 6 [12000/60000 (20%)]\tLoss: 1.552175\n",
            "Train Epoch: 6 [14000/60000 (23%)]\tLoss: 1.503640\n",
            "Train Epoch: 6 [16000/60000 (27%)]\tLoss: 1.510097\n",
            "Train Epoch: 6 [18000/60000 (30%)]\tLoss: 1.508260\n",
            "Train Epoch: 6 [20000/60000 (33%)]\tLoss: 1.480320\n",
            "Train Epoch: 6 [22000/60000 (37%)]\tLoss: 1.494266\n",
            "Train Epoch: 6 [24000/60000 (40%)]\tLoss: 1.557112\n",
            "Train Epoch: 6 [26000/60000 (43%)]\tLoss: 1.491681\n",
            "Train Epoch: 6 [28000/60000 (47%)]\tLoss: 1.516446\n",
            "Train Epoch: 6 [30000/60000 (50%)]\tLoss: 1.481872\n",
            "Train Epoch: 6 [32000/60000 (53%)]\tLoss: 1.489263\n",
            "Train Epoch: 6 [34000/60000 (57%)]\tLoss: 1.541074\n",
            "Train Epoch: 6 [36000/60000 (60%)]\tLoss: 1.523481\n",
            "Train Epoch: 6 [38000/60000 (63%)]\tLoss: 1.539844\n",
            "Train Epoch: 6 [40000/60000 (67%)]\tLoss: 1.513158\n",
            "Train Epoch: 6 [42000/60000 (70%)]\tLoss: 1.470702\n",
            "Train Epoch: 6 [44000/60000 (73%)]\tLoss: 1.530122\n",
            "Train Epoch: 6 [46000/60000 (77%)]\tLoss: 1.522132\n",
            "Train Epoch: 6 [48000/60000 (80%)]\tLoss: 1.531100\n",
            "Train Epoch: 6 [50000/60000 (83%)]\tLoss: 1.461295\n",
            "Train Epoch: 6 [52000/60000 (87%)]\tLoss: 1.491218\n",
            "Train Epoch: 6 [54000/60000 (90%)]\tLoss: 1.535121\n",
            "Train Epoch: 6 [56000/60000 (93%)]\tLoss: 1.536940\n",
            "Train Epoch: 6 [58000/60000 (97%)]\tLoss: 1.507257\n",
            "\n",
            "Test set: Average loss: 0.0148, Accuracy 9804/10000 (98%)\n",
            "\n",
            "Train Epoch: 7 [0/60000 (0%)]\tLoss: 1.502092\n",
            "Train Epoch: 7 [2000/60000 (3%)]\tLoss: 1.523029\n",
            "Train Epoch: 7 [4000/60000 (7%)]\tLoss: 1.508307\n",
            "Train Epoch: 7 [6000/60000 (10%)]\tLoss: 1.492447\n",
            "Train Epoch: 7 [8000/60000 (13%)]\tLoss: 1.489212\n",
            "Train Epoch: 7 [10000/60000 (17%)]\tLoss: 1.489825\n",
            "Train Epoch: 7 [12000/60000 (20%)]\tLoss: 1.492195\n",
            "Train Epoch: 7 [14000/60000 (23%)]\tLoss: 1.492217\n",
            "Train Epoch: 7 [16000/60000 (27%)]\tLoss: 1.538765\n",
            "Train Epoch: 7 [18000/60000 (30%)]\tLoss: 1.516597\n",
            "Train Epoch: 7 [20000/60000 (33%)]\tLoss: 1.521946\n",
            "Train Epoch: 7 [22000/60000 (37%)]\tLoss: 1.514442\n",
            "Train Epoch: 7 [24000/60000 (40%)]\tLoss: 1.502455\n",
            "Train Epoch: 7 [26000/60000 (43%)]\tLoss: 1.498193\n",
            "Train Epoch: 7 [28000/60000 (47%)]\tLoss: 1.508762\n",
            "Train Epoch: 7 [30000/60000 (50%)]\tLoss: 1.500484\n",
            "Train Epoch: 7 [32000/60000 (53%)]\tLoss: 1.528904\n",
            "Train Epoch: 7 [34000/60000 (57%)]\tLoss: 1.516415\n",
            "Train Epoch: 7 [36000/60000 (60%)]\tLoss: 1.476893\n",
            "Train Epoch: 7 [38000/60000 (63%)]\tLoss: 1.502749\n",
            "Train Epoch: 7 [40000/60000 (67%)]\tLoss: 1.503940\n",
            "Train Epoch: 7 [42000/60000 (70%)]\tLoss: 1.500320\n",
            "Train Epoch: 7 [44000/60000 (73%)]\tLoss: 1.512305\n",
            "Train Epoch: 7 [46000/60000 (77%)]\tLoss: 1.512745\n",
            "Train Epoch: 7 [48000/60000 (80%)]\tLoss: 1.511987\n",
            "Train Epoch: 7 [50000/60000 (83%)]\tLoss: 1.534268\n",
            "Train Epoch: 7 [52000/60000 (87%)]\tLoss: 1.526101\n",
            "Train Epoch: 7 [54000/60000 (90%)]\tLoss: 1.485779\n",
            "Train Epoch: 7 [56000/60000 (93%)]\tLoss: 1.495003\n",
            "Train Epoch: 7 [58000/60000 (97%)]\tLoss: 1.485907\n",
            "\n",
            "Test set: Average loss: 0.0148, Accuracy 9810/10000 (98%)\n",
            "\n",
            "Train Epoch: 8 [0/60000 (0%)]\tLoss: 1.504867\n",
            "Train Epoch: 8 [2000/60000 (3%)]\tLoss: 1.506116\n",
            "Train Epoch: 8 [4000/60000 (7%)]\tLoss: 1.504500\n",
            "Train Epoch: 8 [6000/60000 (10%)]\tLoss: 1.527685\n",
            "Train Epoch: 8 [8000/60000 (13%)]\tLoss: 1.495442\n",
            "Train Epoch: 8 [10000/60000 (17%)]\tLoss: 1.502144\n",
            "Train Epoch: 8 [12000/60000 (20%)]\tLoss: 1.506467\n",
            "Train Epoch: 8 [14000/60000 (23%)]\tLoss: 1.564034\n",
            "Train Epoch: 8 [16000/60000 (27%)]\tLoss: 1.534910\n",
            "Train Epoch: 8 [18000/60000 (30%)]\tLoss: 1.515334\n",
            "Train Epoch: 8 [20000/60000 (33%)]\tLoss: 1.542255\n",
            "Train Epoch: 8 [22000/60000 (37%)]\tLoss: 1.509459\n",
            "Train Epoch: 8 [24000/60000 (40%)]\tLoss: 1.496264\n",
            "Train Epoch: 8 [26000/60000 (43%)]\tLoss: 1.495292\n",
            "Train Epoch: 8 [28000/60000 (47%)]\tLoss: 1.491086\n",
            "Train Epoch: 8 [30000/60000 (50%)]\tLoss: 1.504794\n",
            "Train Epoch: 8 [32000/60000 (53%)]\tLoss: 1.502137\n",
            "Train Epoch: 8 [34000/60000 (57%)]\tLoss: 1.520615\n",
            "Train Epoch: 8 [36000/60000 (60%)]\tLoss: 1.551503\n",
            "Train Epoch: 8 [38000/60000 (63%)]\tLoss: 1.536493\n",
            "Train Epoch: 8 [40000/60000 (67%)]\tLoss: 1.549882\n",
            "Train Epoch: 8 [42000/60000 (70%)]\tLoss: 1.498658\n",
            "Train Epoch: 8 [44000/60000 (73%)]\tLoss: 1.501881\n",
            "Train Epoch: 8 [46000/60000 (77%)]\tLoss: 1.528314\n",
            "Train Epoch: 8 [48000/60000 (80%)]\tLoss: 1.506581\n",
            "Train Epoch: 8 [50000/60000 (83%)]\tLoss: 1.492006\n",
            "Train Epoch: 8 [52000/60000 (87%)]\tLoss: 1.522905\n",
            "Train Epoch: 8 [54000/60000 (90%)]\tLoss: 1.491957\n",
            "Train Epoch: 8 [56000/60000 (93%)]\tLoss: 1.515850\n",
            "Train Epoch: 8 [58000/60000 (97%)]\tLoss: 1.511379\n",
            "\n",
            "Test set: Average loss: 0.0148, Accuracy 9825/10000 (98%)\n",
            "\n",
            "Train Epoch: 9 [0/60000 (0%)]\tLoss: 1.506015\n",
            "Train Epoch: 9 [2000/60000 (3%)]\tLoss: 1.557902\n",
            "Train Epoch: 9 [4000/60000 (7%)]\tLoss: 1.531579\n",
            "Train Epoch: 9 [6000/60000 (10%)]\tLoss: 1.492522\n",
            "Train Epoch: 9 [8000/60000 (13%)]\tLoss: 1.472039\n",
            "Train Epoch: 9 [10000/60000 (17%)]\tLoss: 1.506882\n",
            "Train Epoch: 9 [12000/60000 (20%)]\tLoss: 1.509322\n",
            "Train Epoch: 9 [14000/60000 (23%)]\tLoss: 1.501384\n",
            "Train Epoch: 9 [16000/60000 (27%)]\tLoss: 1.500082\n",
            "Train Epoch: 9 [18000/60000 (30%)]\tLoss: 1.531850\n",
            "Train Epoch: 9 [20000/60000 (33%)]\tLoss: 1.532111\n",
            "Train Epoch: 9 [22000/60000 (37%)]\tLoss: 1.522195\n",
            "Train Epoch: 9 [24000/60000 (40%)]\tLoss: 1.507705\n",
            "Train Epoch: 9 [26000/60000 (43%)]\tLoss: 1.509724\n",
            "Train Epoch: 9 [28000/60000 (47%)]\tLoss: 1.477658\n",
            "Train Epoch: 9 [30000/60000 (50%)]\tLoss: 1.503754\n",
            "Train Epoch: 9 [32000/60000 (53%)]\tLoss: 1.483464\n",
            "Train Epoch: 9 [34000/60000 (57%)]\tLoss: 1.518215\n",
            "Train Epoch: 9 [36000/60000 (60%)]\tLoss: 1.551116\n",
            "Train Epoch: 9 [38000/60000 (63%)]\tLoss: 1.507431\n",
            "Train Epoch: 9 [40000/60000 (67%)]\tLoss: 1.510553\n",
            "Train Epoch: 9 [42000/60000 (70%)]\tLoss: 1.484043\n",
            "Train Epoch: 9 [44000/60000 (73%)]\tLoss: 1.524256\n",
            "Train Epoch: 9 [46000/60000 (77%)]\tLoss: 1.504266\n",
            "Train Epoch: 9 [48000/60000 (80%)]\tLoss: 1.526436\n",
            "Train Epoch: 9 [50000/60000 (83%)]\tLoss: 1.508502\n",
            "Train Epoch: 9 [52000/60000 (87%)]\tLoss: 1.501020\n",
            "Train Epoch: 9 [54000/60000 (90%)]\tLoss: 1.464004\n",
            "Train Epoch: 9 [56000/60000 (93%)]\tLoss: 1.489425\n",
            "Train Epoch: 9 [58000/60000 (97%)]\tLoss: 1.499038\n",
            "\n",
            "Test set: Average loss: 0.0148, Accuracy 9824/10000 (98%)\n",
            "\n",
            "Train Epoch: 10 [0/60000 (0%)]\tLoss: 1.491185\n",
            "Train Epoch: 10 [2000/60000 (3%)]\tLoss: 1.504360\n",
            "Train Epoch: 10 [4000/60000 (7%)]\tLoss: 1.522101\n",
            "Train Epoch: 10 [6000/60000 (10%)]\tLoss: 1.535475\n",
            "Train Epoch: 10 [8000/60000 (13%)]\tLoss: 1.502168\n",
            "Train Epoch: 10 [10000/60000 (17%)]\tLoss: 1.498664\n",
            "Train Epoch: 10 [12000/60000 (20%)]\tLoss: 1.539051\n",
            "Train Epoch: 10 [14000/60000 (23%)]\tLoss: 1.486193\n",
            "Train Epoch: 10 [16000/60000 (27%)]\tLoss: 1.493840\n",
            "Train Epoch: 10 [18000/60000 (30%)]\tLoss: 1.523117\n",
            "Train Epoch: 10 [20000/60000 (33%)]\tLoss: 1.505687\n",
            "Train Epoch: 10 [22000/60000 (37%)]\tLoss: 1.492756\n",
            "Train Epoch: 10 [24000/60000 (40%)]\tLoss: 1.523877\n",
            "Train Epoch: 10 [26000/60000 (43%)]\tLoss: 1.499695\n",
            "Train Epoch: 10 [28000/60000 (47%)]\tLoss: 1.498695\n",
            "Train Epoch: 10 [30000/60000 (50%)]\tLoss: 1.514858\n",
            "Train Epoch: 10 [32000/60000 (53%)]\tLoss: 1.520412\n",
            "Train Epoch: 10 [34000/60000 (57%)]\tLoss: 1.506012\n",
            "Train Epoch: 10 [36000/60000 (60%)]\tLoss: 1.469646\n",
            "Train Epoch: 10 [38000/60000 (63%)]\tLoss: 1.503835\n",
            "Train Epoch: 10 [40000/60000 (67%)]\tLoss: 1.527245\n",
            "Train Epoch: 10 [42000/60000 (70%)]\tLoss: 1.502090\n",
            "Train Epoch: 10 [44000/60000 (73%)]\tLoss: 1.507256\n",
            "Train Epoch: 10 [46000/60000 (77%)]\tLoss: 1.505832\n",
            "Train Epoch: 10 [48000/60000 (80%)]\tLoss: 1.555083\n",
            "Train Epoch: 10 [50000/60000 (83%)]\tLoss: 1.504863\n",
            "Train Epoch: 10 [52000/60000 (87%)]\tLoss: 1.506972\n",
            "Train Epoch: 10 [54000/60000 (90%)]\tLoss: 1.524579\n",
            "Train Epoch: 10 [56000/60000 (93%)]\tLoss: 1.487981\n",
            "Train Epoch: 10 [58000/60000 (97%)]\tLoss: 1.518358\n",
            "\n",
            "Test set: Average loss: 0.0148, Accuracy 9805/10000 (98%)\n",
            "\n"
          ]
        }
      ]
    },
    {
      "cell_type": "code",
      "source": [
        "import matplotlib.pyplot as plt\n",
        "\n",
        "model.eval()\n",
        "\n",
        "data, target = test_data[0]\n",
        "\n",
        "data = data.unsqueeze(0).to(device)\n",
        "\n",
        "output = model(data)\n",
        "\n",
        "prediction = output.argmax(dim = 1, keepdim = True).item()\n",
        "\n",
        "print(f'Prediction: {prediction}')\n",
        "\n",
        "image = data.squeeze(0).squeeze(0).cpu().numpy()\n",
        "plt.imshow(image, cmap = 'gray')\n",
        "plt.show()"
      ],
      "metadata": {
        "colab": {
          "base_uri": "https://localhost:8080/",
          "height": 504
        },
        "id": "7vh7uOn-13J-",
        "outputId": "f3c054b1-b3e6-41b9-92ba-4f6782676b1b"
      },
      "execution_count": null,
      "outputs": [
        {
          "output_type": "stream",
          "name": "stderr",
          "text": [
            "<ipython-input-23-0cafbe83f7d9>:24: UserWarning: Implicit dimension choice for softmax has been deprecated. Change the call to include dim=X as an argument.\n",
            "  return F.softmax(x)\n"
          ]
        },
        {
          "output_type": "stream",
          "name": "stdout",
          "text": [
            "Prediction: 7\n"
          ]
        },
        {
          "output_type": "display_data",
          "data": {
            "text/plain": [
              "<Figure size 640x480 with 1 Axes>"
            ],
            "image/png": "[encoded data removed]"
          },
          "metadata": {}
        }
      ]
    }
  ]
}